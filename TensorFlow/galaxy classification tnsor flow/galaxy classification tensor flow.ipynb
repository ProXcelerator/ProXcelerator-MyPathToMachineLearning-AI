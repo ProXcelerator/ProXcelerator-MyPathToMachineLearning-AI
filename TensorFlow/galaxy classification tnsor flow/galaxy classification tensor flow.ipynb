{
 "cells": [
  {
   "cell_type": "code",
   "execution_count": null,
   "id": "719092aa",
   "metadata": {},
   "outputs": [],
   "source": [
    "import tensorflow as tf\n",
    "from tensorflow.keras.preprocessing.image import ImageDataGenerator\n",
    "\n",
    "from sklearn.model_selection import train_test_split\n",
    "from utils import load_galaxy_data\n",
    "\n",
    "import app\n",
    "\n",
    "\n",
    "input_data, labels = load_galaxy_data()\n",
    "\n",
    "print(input_data.shape, labels.shape)\n",
    "\n",
    "x_train, x_test, y_train, y_test = train_test_split(input_data, labels, test_size=0.2, random_state=222, stratify=labels, shuffle=True)\n",
    "\n",
    "generator = ImageDataGenerator(rescale=1.0/128)\n",
    "\n",
    "train_iterator = generator.flow(x_train, y_train, batch_size = 5)\n",
    "test_iterator = generator.flow(x_test, y_test, batch_size = 5)\n",
    "\n",
    "model = tf.keras.Sequential()\n",
    "model.add(tf.keras.layers.Input(shape=(128,128,3)))\n",
    "model.add(tf.keras.layers.Conv2D(8,(3,3), strides=2, activation='relu', padding='valid'))\n",
    "model.add(tf.keras.layers.MaxPooling2D(pool_size=(2,2), strides=2))\n",
    "model.add(tf.keras.layers.Conv2D(8,(3,3), strides=2, activation='relu', padding='valid'))\n",
    "model.add(tf.keras.layers.MaxPooling2D(pool_size=(2,2), strides=2))\n",
    "model.add(tf.keras.layers.Flatten())\n",
    "model.add(tf.keras.layers.Dense(16, activation='relu'))\n",
    "model.add(tf.keras.layers.Dense(4, activation='softmax'))\n",
    "\n",
    "model.compile(optimizer=tf.keras.optimizers.Adam(learning_rate=.001), loss=[tf.keras.losses.CategoricalCrossentropy()], metrics=[tf.keras.metrics.CategoricalAccuracy(), tf.keras.metrics.AUC()])\n",
    "\n",
    "print(model.summary())\n",
    "batch_size = 16\n",
    "model.fit(train_iterator, steps_per_epoch=len(x_train)/batch_size, epochs=8, validation_data=test_iterator, validation_steps=len(x_test)/batch_size)\n",
    "\n"
   ]
  }
 ],
 "metadata": {
  "kernelspec": {
   "display_name": "Python 3 (ipykernel)",
   "language": "python",
   "name": "python3"
  },
  "language_info": {
   "codemirror_mode": {
    "name": "ipython",
    "version": 3
   },
   "file_extension": ".py",
   "mimetype": "text/x-python",
   "name": "python",
   "nbconvert_exporter": "python",
   "pygments_lexer": "ipython3",
   "version": "3.10.9"
  }
 },
 "nbformat": 4,
 "nbformat_minor": 5
}
