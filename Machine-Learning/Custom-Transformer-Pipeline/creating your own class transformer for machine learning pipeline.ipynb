{
 "cells": [
  {
   "cell_type": "code",
   "execution_count": null,
   "id": "774b74be",
   "metadata": {},
   "outputs": [],
   "source": [
    "import numpy as np\n",
    "import pandas as pd\n",
    "from sklearn.pipeline import Pipeline\n",
    "from sklearn.preprocessing import LabelEncoder, StandardScaler\n",
    "from sklearn.model_selection import KFold, train_test_split\n",
    "from sklearn.compose import ColumnTransformer\n",
    "from sklearn.impute import SimpleImputer\n",
    "from sklearn.base import BaseEstimator, TransformerMixin\n",
    "\n",
    "columns = [\"sex\",\"length\",\"diam\",\"height\",\"whole\",\"shucked\",\"viscera\",\"shell\",\"age\"]\n",
    "df = pd.read_csv(\"http://archive.ics.uci.edu/ml/machine-learning-databases/abalone/abalone.data\",names=columns)\n",
    "y = df.age\n",
    "X=df.drop(columns=['age'])\n",
    "num_cols = X.select_dtypes(include=np.number).columns\n",
    "cat_cols = X.select_dtypes(include=['object']).columns\n",
    "\n",
    "for i in range(1000):\n",
    "    X.loc[np.random.choice(X.index),np.random.choice(X.columns)] = np.nan\n",
    "x_train, x_test, y_train, y_test = train_test_split(X,y, random_state=0, test_size=0.25)\n",
    "x_train_num = x_train[num_cols]\n",
    "#fill missing values with mean on numeric features only\n",
    "x_train_fill_missing = x_train_num.fillna(x_train_num.mean())\n",
    "#fit standard scaler on x_train_fill_missing\n",
    "scale = StandardScaler().fit(x_train_fill_missing)\n",
    "#scale data after filling in missing values\n",
    "x_train_fill_missing_scale = scale.transform(x_train_fill_missing)\n",
    "x_test_fill_missing = x_test[num_cols].fillna(x_train_num.mean())\n",
    "x_test_fill_missing_scale = scale.transform(x_test_fill_missing)\n",
    "\n",
    "class MyImputer(BaseEstimator, TransformerMixin): \n",
    "    def __init__(self):\n",
    "        return None\n",
    "    \n",
    "    def fit(self, X, y = None):\n",
    "        self.means = np.mean(X, axis=0)    # calculate the mean of each column\n",
    "        return self\n",
    "    \n",
    "    def transform(self, X, y = None):\n",
    "        #transform method fills in missing values with means using pandas\n",
    "        return X.fillna(self.means)\n",
    "\n",
    "#1. Create new pipeline using the custom class MyImputer as the first step and standard scaler on the second\n",
    "new_pipeline = Pipeline([('imputer', MyImputer()), ('scalar', StandardScaler())])\n",
    "\n",
    "#2. Fit new pipeline on the training data with num_cols only and verify that the results of the transform are the same on test set\n",
    "new_pipeline.fit(x_train[num_cols])\n",
    "x_transform = new_pipeline.transform(x_test[num_cols])\n",
    "check_arrays = np.array_equal(x_transform, x_test_fill_missing_scale)\n",
    "print(check_arrays)\n",
    "\n"
   ]
  }
 ],
 "metadata": {
  "kernelspec": {
   "display_name": "Python 3 (ipykernel)",
   "language": "python",
   "name": "python3"
  },
  "language_info": {
   "codemirror_mode": {
    "name": "ipython",
    "version": 3
   },
   "file_extension": ".py",
   "mimetype": "text/x-python",
   "name": "python",
   "nbconvert_exporter": "python",
   "pygments_lexer": "ipython3",
   "version": "3.10.13"
  }
 },
 "nbformat": 4,
 "nbformat_minor": 5
}
