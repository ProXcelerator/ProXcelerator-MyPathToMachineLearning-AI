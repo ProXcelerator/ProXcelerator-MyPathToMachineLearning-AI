{
 "cells": [
  {
   "cell_type": "code",
   "execution_count": 4,
   "id": "023663e3-e1f8-471c-8b67-f7aba1d02ece",
   "metadata": {},
   "outputs": [],
   "source": [
    "import pandas as pd\n",
    "from surprise import Reader, SVD, KNNBasic"
   ]
  },
  {
   "cell_type": "markdown",
   "id": "85b49f25-7e60-4ed4-af08-518cd3560c13",
   "metadata": {},
   "source": [
    "# Load Data"
   ]
  },
  {
   "cell_type": "code",
   "execution_count": 4,
   "id": "418b4d97-d6e1-433f-aef6-829ea9e5bebc",
   "metadata": {},
   "outputs": [
    {
     "name": "stdout",
     "output_type": "stream",
     "text": [
      "                            user_id   book_id  \\\n",
      "0  d089c9b670c0b0b339353aebbace46a1   7686667   \n",
      "1  6dcb2c16e12a41ae0c6c38e9d46f3292  18073066   \n",
      "2  244e0ce681148a7586d7746676093ce9  13610986   \n",
      "3  73fcc25ff29f8b73b3a7578aec846394  27274343   \n",
      "4  f8880e158a163388a990b64fec7df300  11614718   \n",
      "\n",
      "                          review_id  rating  \\\n",
      "0  3337e0e75701f7f682de11638ccdc60c       3   \n",
      "1  7201aa3c1161f2bad81258b6d4686c16       5   \n",
      "2  07a203f87bfe1b65ff58774667f6f80d       5   \n",
      "3  8be2d87b07098c16f9742020ec459383       1   \n",
      "4  a29c4ba03e33ad073a414ac775266c5f       4   \n",
      "\n",
      "                                         review_text  \\\n",
      "0  Like Matched, this book felt like it was echoi...   \n",
      "1  WOW again! 4,5 Stars \\r\\n So i wont forget to ...   \n",
      "2  The second novel was hot & heavy. Not only in ...   \n",
      "3  What a maddening waste of time. And I unfortun...   \n",
      "4  4.5 stars! \\r\\n This was an awesome read! \\r\\n...   \n",
      "\n",
      "                       date_added                    date_updated  \\\n",
      "0  Fri Apr 29 14:45:32 -0700 2011  Mon Feb 02 12:57:57 -0800 2015   \n",
      "1  Thu Aug 01 02:15:18 -0700 2013  Mon Nov 18 14:49:26 -0800 2013   \n",
      "2  Sun Nov 23 18:17:50 -0800 2014  Sat May 16 20:34:19 -0700 2015   \n",
      "3  Mon Oct 31 08:29:06 -0700 2016  Wed Apr 26 16:06:28 -0700 2017   \n",
      "4  Tue Mar 26 10:55:30 -0700 2013  Mon Sep 08 09:57:05 -0700 2014   \n",
      "\n",
      "                          read_at                      started_at  n_votes  \\\n",
      "0  Sat Jun 18 00:00:00 -0700 2011  Thu May 19 00:00:00 -0700 2011        0   \n",
      "1  Mon Aug 19 00:00:00 -0700 2013  Mon Aug 12 00:00:00 -0700 2013       16   \n",
      "2  Fri Dec 19 00:00:00 -0800 2014  Sun Nov 23 00:00:00 -0800 2014        0   \n",
      "3  Wed Apr 26 16:06:28 -0700 2017  Sun Apr 23 00:00:00 -0700 2017        0   \n",
      "4  Sun Apr 20 09:26:41 -0700 2014  Fri Apr 18 00:00:00 -0700 2014        0   \n",
      "\n",
      "   n_comments  \n",
      "0           0  \n",
      "1          14  \n",
      "2           0  \n",
      "3           1  \n",
      "4           0  \n"
     ]
    }
   ],
   "source": [
    "df = pd.read_csv('goodreads_ratings.csv')\n",
    "print(df.head())"
   ]
  },
  {
   "cell_type": "markdown",
   "id": "d06eaebe-4217-457a-833c-2a3a99282b5b",
   "metadata": {},
   "source": [
    "# Inspect Data\n"
   ]
  },
  {
   "cell_type": "code",
   "execution_count": 5,
   "id": "1eb1b7ba-74d0-4244-9793-8395f9efe918",
   "metadata": {},
   "outputs": [
    {
     "name": "stdout",
     "output_type": "stream",
     "text": [
      "user_id         object\n",
      "book_id          int64\n",
      "review_id       object\n",
      "rating           int64\n",
      "review_text     object\n",
      "date_added      object\n",
      "date_updated    object\n",
      "read_at         object\n",
      "started_at      object\n",
      "n_votes          int64\n",
      "n_comments       int64\n",
      "dtype: object\n"
     ]
    }
   ],
   "source": [
    "#1. Print dataset size and examine column data types\n",
    "print(df.dtypes)"
   ]
  },
  {
   "cell_type": "code",
   "execution_count": 18,
   "id": "0bbf5d1e-3a75-490a-a714-4bc5b078dd0e",
   "metadata": {},
   "outputs": [
    {
     "name": "stdout",
     "output_type": "stream",
     "text": [
      "rating\n",
      "4    1278\n",
      "5    1001\n",
      "3     707\n",
      "2     269\n",
      "1     125\n",
      "0     120\n",
      "Name: count, dtype: int64\n",
      "count    3500.000000\n",
      "mean        3.686000\n",
      "std         1.251911\n",
      "min         0.000000\n",
      "25%         3.000000\n",
      "50%         4.000000\n",
      "75%         5.000000\n",
      "max         5.000000\n",
      "Name: rating, dtype: float64\n"
     ]
    }
   ],
   "source": [
    "#2. Distribution of ratings\n",
    "print(df['rating'].value_counts())\n",
    "print(df['rating'].describe())"
   ]
  },
  {
   "cell_type": "code",
   "execution_count": 8,
   "id": "37ca1559-9f53-4ca3-96b5-3852fad70451",
   "metadata": {},
   "outputs": [],
   "source": [
    "#3. Filter ratings that are out of range\n",
    "filtered_ratings = df[df['rating']!=0]\n",
    "# print(filtered_ratings.value_counts())"
   ]
  },
  {
   "cell_type": "markdown",
   "id": "aff558ad-25b4-485b-911c-2efef93d0c9e",
   "metadata": {},
   "source": [
    "# Filter Data using Surprise"
   ]
  },
  {
   "cell_type": "code",
   "execution_count": 9,
   "id": "968b78f4-8030-4fed-a9c2-888b835df2fa",
   "metadata": {},
   "outputs": [],
   "source": [
    "#4. Prepare data for surprise: build a Suprise reader object\n",
    "\n",
    "reader = Reader(rating_scale= (1,5))\n",
    "\n",
    "#5. Load `book_ratings` into a Surprise Dataset\n",
    "from surprise import Dataset\n",
    "data = Dataset.load_from_df(filtered_ratings[['user_id', 'book_id', 'rating']], reader)"
   ]
  },
  {
   "cell_type": "markdown",
   "id": "4965d514-3437-4bea-bca3-10d4588ed1b0",
   "metadata": {},
   "source": [
    "# Split Data"
   ]
  },
  {
   "cell_type": "code",
   "execution_count": 10,
   "id": "5963fa22-a174-41d3-820b-777e43932ab0",
   "metadata": {},
   "outputs": [],
   "source": [
    "#6. Create a 80:20 train-test split and set the random state to 7\n",
    "from surprise.model_selection import train_test_split\n",
    "trainset, testset = train_test_split(data, random_state= 7, test_size= .2)"
   ]
  },
  {
   "cell_type": "markdown",
   "id": "50e8941c-68fa-4922-beac-0b9765fa3e62",
   "metadata": {},
   "source": [
    "# Build Models"
   ]
  },
  {
   "cell_type": "code",
   "execution_count": 11,
   "id": "02a9d960-9904-4e7d-a5c1-78ed08c145c3",
   "metadata": {},
   "outputs": [
    {
     "name": "stdout",
     "output_type": "stream",
     "text": [
      "Computing the msd similarity matrix...\n",
      "Done computing similarity matrix.\n"
     ]
    }
   ],
   "source": [
    "#7. Use KNNBasice from Surprise to train a collaborative filter\n",
    "from surprise import KNNBasic\n",
    "knn = KNNBasic()\n",
    "knn.fit(trainset)\n",
    "test = knn.test(testset)"
   ]
  },
  {
   "cell_type": "code",
   "execution_count": 25,
   "id": "a5558160-5397-44be-9f08-46ded12b4ef4",
   "metadata": {},
   "outputs": [
    {
     "name": "stdout",
     "output_type": "stream",
     "text": [
      "RMSE: 1.1105\n",
      "The accuracy of KNNBasic prediction model using RSME is - 1.110471008157185\n",
      "=============================================================\n",
      "RMSE: 0.7399\n",
      "The accuracy of SVD prediction model using RSME is - 0.7398665977772447\n",
      "=============================================================\n",
      "user: 8842281e1d1347389f2ab93d60773d4d item: 18245960   r_ui = 5.00   est = 3.83   {'was_impossible': True, 'reason': 'Not enough neighbors.'}\n",
      "=============================================================\n",
      "user: 8842281e1d1347389f2ab93d60773d4d item: 18245960   r_ui = 5.00   est = 3.81   {'was_impossible': False}\n"
     ]
    }
   ],
   "source": [
    "#8. Evaluate the recommender system\n",
    "from surprise import accuracy\n",
    "print('The accuracy of KNNBasic prediction model using RSME is - ' + \n",
    "str(accuracy.rmse(test)))\n",
    "print('=============================================================')\n",
    "\n",
    "# test SVD and see if it does better than KNNBasic\n",
    "svd = SVD()\n",
    "svd.fit(trainset)\n",
    "test_svd = svd.test(testset)\n",
    "print('The accuracy of SVD prediction model using RSME is - ' + \n",
    "str(accuracy.rmse(test_svd)))\n",
    "print('=============================================================')\n",
    "\n",
    "#9. Prediction on a user who gave the \"The Three-Body Problem\" a rating of 5\n",
    "uid = '8842281e1d1347389f2ab93d60773d4d'\n",
    "bid = 18245960\n",
    "\n",
    "user_pred = knn.predict(uid, bid, r_ui=5, verbose=True )\n",
    "print('=============================================================')\n",
    "\n",
    "user_pred_svd = svd.predict(uid, bid, r_ui=5, verbose=True )"
   ]
  },
  {
   "cell_type": "markdown",
   "id": "5178c478-d482-45a4-912c-b700c4ff83a2",
   "metadata": {},
   "source": [
    "# Cross Validation"
   ]
  },
  {
   "cell_type": "code",
   "execution_count": 27,
   "id": "3e730d6c-c14b-4343-90ae-531e1b7ad75d",
   "metadata": {
    "tags": []
   },
   "outputs": [
    {
     "name": "stdout",
     "output_type": "stream",
     "text": [
      "Evaluating RMSE, MAE of algorithm SVD on 10 split(s).\n",
      "\n",
      "                  Fold 1  Fold 2  Fold 3  Fold 4  Fold 5  Fold 6  Fold 7  Fold 8  Fold 9  Fold 10 Mean    Std     \n",
      "RMSE (testset)    1.0539  0.9517  1.0694  1.0368  1.0357  1.1245  1.0519  1.0492  1.0687  1.0341  1.0476  0.0407  \n",
      "MAE (testset)     0.8495  0.7294  0.8524  0.8131  0.8083  0.9144  0.8458  0.8143  0.8359  0.8156  0.8279  0.0442  \n",
      "Fit time          0.05    0.04    0.04    0.04    0.04    0.02    0.04    0.03    0.03    0.04    0.04    0.01    \n",
      "Test time         0.00    0.00    0.00    0.00    0.00    0.02    0.00    0.00    0.00    0.00    0.00    0.00    \n"
     ]
    },
    {
     "data": {
      "text/plain": [
       "{'test_rmse': array([1.05393841, 0.95166882, 1.06943828, 1.03680359, 1.03568522,\n",
       "        1.12451838, 1.05191411, 1.04916501, 1.06873417, 1.03408343]),\n",
       " 'test_mae': array([0.84950489, 0.7293576 , 0.85244359, 0.81305024, 0.80834987,\n",
       "        0.9143598 , 0.84583388, 0.81431643, 0.83591875, 0.81564621]),\n",
       " 'fit_time': (0.04688858985900879,\n",
       "  0.03946280479431152,\n",
       "  0.03557944297790527,\n",
       "  0.03923678398132324,\n",
       "  0.04012894630432129,\n",
       "  0.023686647415161133,\n",
       "  0.041409969329833984,\n",
       "  0.03173542022705078,\n",
       "  0.031434059143066406,\n",
       "  0.03598475456237793),\n",
       " 'test_time': (0.0019960403442382812,\n",
       "  0.0020291805267333984,\n",
       "  0.0,\n",
       "  0.0009975433349609375,\n",
       "  0.001994609832763672,\n",
       "  0.015728473663330078,\n",
       "  0.0,\n",
       "  0.0,\n",
       "  0.0,\n",
       "  0.0)}"
      ]
     },
     "execution_count": 27,
     "metadata": {},
     "output_type": "execute_result"
    }
   ],
   "source": [
    "from surprise.model_selection import cross_validate\n",
    "cross_validate(svd, data, measures=['RMSE', 'MAE'], cv=10, verbose=True)"
   ]
  },
  {
   "cell_type": "markdown",
   "id": "c5077ba3-a37d-4cf2-a9da-3ae76ef5915b",
   "metadata": {},
   "source": [
    "# BaseLine Model"
   ]
  },
  {
   "cell_type": "code",
   "execution_count": 28,
   "id": "a1f8c45e-8542-4c9b-8602-f1dd4ecf7343",
   "metadata": {
    "tags": []
   },
   "outputs": [
    {
     "name": "stdout",
     "output_type": "stream",
     "text": [
      "Estimating biases using als...\n",
      "Estimating biases using als...\n",
      "Estimating biases using als...\n",
      "Estimating biases using als...\n",
      "Estimating biases using als...\n",
      "Evaluating RMSE of algorithm BaselineOnly on 5 split(s).\n",
      "\n",
      "                  Fold 1  Fold 2  Fold 3  Fold 4  Fold 5  Mean    Std     \n",
      "RMSE (testset)    1.0432  1.0359  1.0604  1.0811  1.0434  1.0528  0.0163  \n",
      "Fit time          0.01    0.01    0.01    0.02    0.01    0.01    0.00    \n",
      "Test time         0.01    0.00    0.00    0.00    0.00    0.00    0.00    \n",
      "Estimating biases using als...\n"
     ]
    },
    {
     "data": {
      "text/plain": [
       "Prediction(uid='8842281e1d1347389f2ab93d60773d4d', iid=18245960, r_ui=5, est=3.8715976331360946, details={'was_impossible': False})"
      ]
     },
     "execution_count": 28,
     "metadata": {},
     "output_type": "execute_result"
    }
   ],
   "source": [
    "from surprise import BaselineOnly\n",
    "\n",
    "baseline_model = BaselineOnly()\n",
    "\n",
    "cross_validate(baseline_model, data, measures=['RMSE'], cv=5, verbose=True)\n",
    "# trainset= data.build_full_trainset()\n",
    "baseline_model.fit(trainset)\n",
    "baseline_model.predict(uid, bid, r_ui=5)"
   ]
  },
  {
   "cell_type": "markdown",
   "id": "1d2c487c-e26e-4236-9bf0-cd2bbc592a4e",
   "metadata": {},
   "source": [
    "# Conclusion"
   ]
  },
  {
   "cell_type": "markdown",
   "id": "6cc86a17-5289-4d36-8452-10bdb3d441e9",
   "metadata": {},
   "source": [
    "Even when using a cross validation model to look at differnt splits.   \n",
    "We end up with the lowest RMSE of .9953 which is pretty poor.   \n",
    "The closer to 0 the more perfect the predictions. "
   ]
  }
 ],
 "metadata": {
  "kernelspec": {
   "display_name": "Python 3 (ipykernel)",
   "language": "python",
   "name": "python3"
  },
  "language_info": {
   "codemirror_mode": {
    "name": "ipython",
    "version": 3
   },
   "file_extension": ".py",
   "mimetype": "text/x-python",
   "name": "python",
   "nbconvert_exporter": "python",
   "pygments_lexer": "ipython3",
   "version": "3.10.13"
  }
 },
 "nbformat": 4,
 "nbformat_minor": 5
}
