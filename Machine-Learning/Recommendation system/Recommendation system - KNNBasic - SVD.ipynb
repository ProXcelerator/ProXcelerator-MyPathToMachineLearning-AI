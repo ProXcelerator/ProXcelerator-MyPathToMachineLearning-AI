{
 "cells": [
  {
   "cell_type": "code",
   "execution_count": 3,
   "id": "b6273230",
   "metadata": {},
   "outputs": [
    {
     "ename": "ModuleNotFoundError",
     "evalue": "No module named 'codecademylib3'",
     "output_type": "error",
     "traceback": [
      "\u001b[1;31m---------------------------------------------------------------------------\u001b[0m",
      "\u001b[1;31mModuleNotFoundError\u001b[0m                       Traceback (most recent call last)",
      "Cell \u001b[1;32mIn[3], line 2\u001b[0m\n\u001b[0;32m      1\u001b[0m \u001b[38;5;28;01mimport\u001b[39;00m \u001b[38;5;21;01mpandas\u001b[39;00m \u001b[38;5;28;01mas\u001b[39;00m \u001b[38;5;21;01mpd\u001b[39;00m\n\u001b[1;32m----> 2\u001b[0m \u001b[38;5;28;01mimport\u001b[39;00m \u001b[38;5;21;01mcodecademylib3\u001b[39;00m\n\u001b[0;32m      3\u001b[0m \u001b[38;5;28;01mfrom\u001b[39;00m \u001b[38;5;21;01msurprise\u001b[39;00m \u001b[38;5;28;01mimport\u001b[39;00m Reader, SVD, KNNBasic\n\u001b[0;32m      5\u001b[0m df \u001b[38;5;241m=\u001b[39m pd\u001b[38;5;241m.\u001b[39mread_csv(\u001b[38;5;124m'\u001b[39m\u001b[38;5;124mgoodreads_ratings.csv\u001b[39m\u001b[38;5;124m'\u001b[39m)\n",
      "\u001b[1;31mModuleNotFoundError\u001b[0m: No module named 'codecademylib3'"
     ]
    }
   ],
   "source": [
    "import pandas as pd\n",
    "from surprise import Reader, SVD, KNNBasic\n",
    "\n",
    "df = pd.read_csv('goodreads_ratings.csv')\n",
    "print(df.head())\n",
    "\n",
    "#1. Print dataset size and examine column data types\n",
    "print(df.dtypes)\n",
    "\n",
    "#2. Distribution of ratings\n",
    "print(df['rating'].value_counts())\n",
    "\n",
    "#3. Filter ratings that are out of range\n",
    "filtered_ratings = df[df['rating']!=0]\n",
    "print(filtered_ratings.value_counts())\n",
    "\n",
    "#4. Prepare data for surprise: build a Suprise reader object\n",
    "\n",
    "reader = Reader(rating_scale= (1,5))\n",
    "\n",
    "#5. Load `book_ratings` into a Surprise Dataset\n",
    "from surprise import Dataset\n",
    "data = Dataset.load_from_df(filtered_ratings[['user_id', 'book_id', 'rating']], reader)\n",
    "\n",
    "#6. Create a 80:20 train-test split and set the random state to 7\n",
    "from surprise.model_selection import train_test_split\n",
    "trainset, testset = train_test_split(data, random_state= 7, test_size= .2)\n",
    "\n",
    "#7. Use KNNBasice from Surprise to train a collaborative filter\n",
    "from surprise import KNNBasic\n",
    "knn = KNNBasic()\n",
    "knn.fit(trainset)\n",
    "test = knn.test(testset)\n",
    "\n",
    "#8. Evaluate the recommender system\n",
    "from surprise import accuracy\n",
    "print('The accuracy of KNNBasic prediction model using RSME is - ' + \n",
    "str(accuracy.rmse(test)))\n",
    "print('=============================================================')\n",
    "\n",
    "# test SVD and see if it does better than KNNBasic\n",
    "svd = SVD()\n",
    "svd.fit(trainset)\n",
    "test_svd = svd.test(testset)\n",
    "print('The accuracy of SVD prediction model using RSME is - ' + \n",
    "str(accuracy.rmse(test_svd)))\n",
    "print('=============================================================')\n",
    "\n",
    "#9. Prediction on a user who gave the \"The Three-Body Problem\" a rating of 5\n",
    "uid = '8842281e1d1347389f2ab93d60773d4d'\n",
    "bid = 18245960\n",
    "\n",
    "user_pred = knn.predict(uid, bid, r_ui=5, verbose=True )\n",
    "print('=============================================================')\n",
    "\n",
    "user_pred_svd = svd.predict(uid, bid, r_ui=5, verbose=True )"
   ]
  }
 ],
 "metadata": {
  "kernelspec": {
   "display_name": "Python 3 (ipykernel)",
   "language": "python",
   "name": "python3"
  },
  "language_info": {
   "codemirror_mode": {
    "name": "ipython",
    "version": 3
   },
   "file_extension": ".py",
   "mimetype": "text/x-python",
   "name": "python",
   "nbconvert_exporter": "python",
   "pygments_lexer": "ipython3",
   "version": "3.10.13"
  }
 },
 "nbformat": 4,
 "nbformat_minor": 5
}
