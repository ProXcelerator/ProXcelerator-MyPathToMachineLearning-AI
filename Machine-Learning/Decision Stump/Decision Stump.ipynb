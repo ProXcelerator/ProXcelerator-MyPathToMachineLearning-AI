{
 "cells": [
  {
   "cell_type": "code",
   "execution_count": 6,
   "id": "da8e9a54",
   "metadata": {},
   "outputs": [
    {
     "name": "stdout",
     "output_type": "stream",
     "text": [
      "{'ccp_alpha': 0.0, 'class_weight': None, 'criterion': 'gini', 'max_depth': 1, 'max_features': None, 'max_leaf_nodes': None, 'min_impurity_decrease': 0.0, 'min_samples_leaf': 1, 'min_samples_split': 2, 'min_weight_fraction_leaf': 0.0, 'random_state': None, 'splitter': 'best'}\n",
      "{'algorithm': 'SAMME.R', 'base_estimator': 'deprecated', 'estimator__ccp_alpha': 0.0, 'estimator__class_weight': None, 'estimator__criterion': 'gini', 'estimator__max_depth': 1, 'estimator__max_features': None, 'estimator__max_leaf_nodes': None, 'estimator__min_impurity_decrease': 0.0, 'estimator__min_samples_leaf': 1, 'estimator__min_samples_split': 2, 'estimator__min_weight_fraction_leaf': 0.0, 'estimator__random_state': None, 'estimator__splitter': 'best', 'estimator': DecisionTreeClassifier(max_depth=1), 'learning_rate': 1.0, 'n_estimators': 5, 'random_state': None}\n",
      "Confusion Matrix:\n",
      "            predicted yes  predicted no\n",
      "actual yes            129            25\n",
      "actual no              49           316\n",
      "Accuracy score : 0.8574181117533719\n",
      "Precision score : 0.7247191011235955\n",
      "Recall score : 0.8376623376623377\n",
      "f1 score : 0.7771084337349398\n"
     ]
    }
   ],
   "source": [
    "import pandas as pd\n",
    "import numpy as np\n",
    "from sklearn.model_selection import train_test_split\n",
    "from sklearn.tree import DecisionTreeClassifier\n",
    "from sklearn.ensemble import AdaBoostClassifier\n",
    "from sklearn.metrics import accuracy_score, precision_score, recall_score, f1_score, confusion_matrix\n",
    "\n",
    "# Load dataset to a pandas DataFrame\n",
    "path_to_data = 'https://archive.ics.uci.edu/ml/machine-learning-databases/car/car.data'\n",
    "column_names = ['buying', 'maint', 'doors', 'persons', 'lug_boot', 'safety', 'accep']\n",
    "df = pd.read_csv(path_to_data, names=column_names)\n",
    "\n",
    "target_column = 'accep'\n",
    "raw_feature_columns = [col for col in column_names if col != target_column]\n",
    "\n",
    "# Create dummy variables from the feature columns\n",
    "X = pd.get_dummies(df[raw_feature_columns], drop_first=True)\n",
    "\n",
    "# Convert target column to binary variable; 0 if 'unacc', 1 otherwise\n",
    "df[target_column] = np.where(df[target_column] == 'unacc', 0, 1)\n",
    "y = df[target_column]\n",
    "\n",
    "# Split the full dataset into training and testing sets\n",
    "X_train, X_test, y_train, y_test = train_test_split(X, y, random_state=123, test_size=0.3)\n",
    "\n",
    "\n",
    "# 1. Create a decision stump base model using the Decision Tree Classifier and print its parameters\n",
    "# a decision stump uses a depth of 1 and only makes 2 leaf nodes\n",
    "decision_stump = DecisionTreeClassifier(max_depth=1)\n",
    "decision_stump.fit(X_train, y_train)\n",
    "y_pred = decision_stump.predict(X_test)\n",
    "print(decision_stump.get_params())\n",
    "\n",
    "# 2. Create an Adaptive Boost Classifier and print its parameters\n",
    "ada_classifier = AdaBoostClassifier(estimator=decision_stump, n_estimators=5)\n",
    "print(ada_classifier.get_params())\n",
    "# 3. Fit the Adaptive Boost Classifier to the training data and get the list of predictions\n",
    "ada_classifier.fit(X_train, y_train)\n",
    "y_pred = ada_classifier.predict(X_test)\n",
    "\n",
    "# 4. Calculate the accuracy, precision, recall, and f1-score on the testing data\n",
    "accuracy = accuracy_score(y_test, y_pred)\n",
    "precision = precision_score(y_test, y_pred)\n",
    "recall = recall_score(y_test, y_pred)\n",
    "f1 = f1_score(y_test, y_pred)\n",
    "\n",
    "# 5. Remove the comments from the following code block to print the confusion matrix\n",
    "test_conf_matrix = pd.DataFrame(\n",
    "    confusion_matrix(y_test, y_pred, labels=[1, 0]), \n",
    "    index=['actual yes', 'actual no'], \n",
    "    columns=['predicted yes', 'predicted no']\n",
    ")\n",
    "print(f'Confusion Matrix:\\n{test_conf_matrix.to_string()}')\n",
    "\n",
    "print(f'Accuracy score : {accuracy}')\n",
    "print(f'Precision score : {precision}')\n",
    "print(f'Recall score : {recall}')\n",
    "print(f'f1 score : {f1}')"
   ]
  }
 ],
 "metadata": {
  "kernelspec": {
   "display_name": "Python 3 (ipykernel)",
   "language": "python",
   "name": "python3"
  },
  "language_info": {
   "codemirror_mode": {
    "name": "ipython",
    "version": 3
   },
   "file_extension": ".py",
   "mimetype": "text/x-python",
   "name": "python",
   "nbconvert_exporter": "python",
   "pygments_lexer": "ipython3",
   "version": "3.10.13"
  }
 },
 "nbformat": 4,
 "nbformat_minor": 5
}
