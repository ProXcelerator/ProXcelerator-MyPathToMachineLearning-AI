{
 "cells": [
  {
   "cell_type": "code",
   "execution_count": 1,
   "id": "84dc4fea-9cb9-4a17-99b4-4613043fee6a",
   "metadata": {
    "tags": []
   },
   "outputs": [],
   "source": [
    "import pandas as pd \n",
    "import numpy as np \n",
    "import tensorflow as tf\n",
    "from sklearn.model_selection import train_test_split\n",
    "from sklearn.compose import ColumnTransformer\n",
    "from sklearn.preprocessing import Normalizer, StandardScaler"
   ]
  },
  {
   "cell_type": "markdown",
   "id": "db0d1c27-7248-4e47-8117-933801f27ec8",
   "metadata": {},
   "source": [
    "# Load Data"
   ]
  },
  {
   "cell_type": "code",
   "execution_count": 3,
   "id": "8adfa544-3ffb-4bb7-9bcc-df74ccafcba2",
   "metadata": {
    "tags": []
   },
   "outputs": [
    {
     "data": {
      "text/html": [
       "<div>\n",
       "<style scoped>\n",
       "    .dataframe tbody tr th:only-of-type {\n",
       "        vertical-align: middle;\n",
       "    }\n",
       "\n",
       "    .dataframe tbody tr th {\n",
       "        vertical-align: top;\n",
       "    }\n",
       "\n",
       "    .dataframe thead th {\n",
       "        text-align: right;\n",
       "    }\n",
       "</style>\n",
       "<table border=\"1\" class=\"dataframe\">\n",
       "  <thead>\n",
       "    <tr style=\"text-align: right;\">\n",
       "      <th></th>\n",
       "      <th>Country</th>\n",
       "      <th>Year</th>\n",
       "      <th>Status</th>\n",
       "      <th>Adult Mortality</th>\n",
       "      <th>infant deaths</th>\n",
       "      <th>Alcohol</th>\n",
       "      <th>percentage expenditure</th>\n",
       "      <th>Hepatitis B</th>\n",
       "      <th>Measles</th>\n",
       "      <th>BMI</th>\n",
       "      <th>...</th>\n",
       "      <th>Total expenditure</th>\n",
       "      <th>Diphtheria</th>\n",
       "      <th>HIV/AIDS</th>\n",
       "      <th>GDP</th>\n",
       "      <th>Population</th>\n",
       "      <th>thinness  1-19 years</th>\n",
       "      <th>thinness 5-9 years</th>\n",
       "      <th>Income composition of resources</th>\n",
       "      <th>Schooling</th>\n",
       "      <th>Life expectancy</th>\n",
       "    </tr>\n",
       "  </thead>\n",
       "  <tbody>\n",
       "    <tr>\n",
       "      <th>0</th>\n",
       "      <td>Afghanistan</td>\n",
       "      <td>2015</td>\n",
       "      <td>Developing</td>\n",
       "      <td>263.0</td>\n",
       "      <td>62</td>\n",
       "      <td>0.01</td>\n",
       "      <td>71.279624</td>\n",
       "      <td>65.0</td>\n",
       "      <td>1154</td>\n",
       "      <td>19.1</td>\n",
       "      <td>...</td>\n",
       "      <td>8.16</td>\n",
       "      <td>65.0</td>\n",
       "      <td>0.1</td>\n",
       "      <td>584.259210</td>\n",
       "      <td>33736494.0</td>\n",
       "      <td>17.2</td>\n",
       "      <td>17.3</td>\n",
       "      <td>0.479</td>\n",
       "      <td>10.1</td>\n",
       "      <td>65.0</td>\n",
       "    </tr>\n",
       "    <tr>\n",
       "      <th>1</th>\n",
       "      <td>Afghanistan</td>\n",
       "      <td>2014</td>\n",
       "      <td>Developing</td>\n",
       "      <td>271.0</td>\n",
       "      <td>64</td>\n",
       "      <td>0.01</td>\n",
       "      <td>73.523582</td>\n",
       "      <td>62.0</td>\n",
       "      <td>492</td>\n",
       "      <td>18.6</td>\n",
       "      <td>...</td>\n",
       "      <td>8.18</td>\n",
       "      <td>62.0</td>\n",
       "      <td>0.1</td>\n",
       "      <td>612.696514</td>\n",
       "      <td>327582.0</td>\n",
       "      <td>17.5</td>\n",
       "      <td>17.5</td>\n",
       "      <td>0.476</td>\n",
       "      <td>10.0</td>\n",
       "      <td>59.9</td>\n",
       "    </tr>\n",
       "    <tr>\n",
       "      <th>2</th>\n",
       "      <td>Afghanistan</td>\n",
       "      <td>2013</td>\n",
       "      <td>Developing</td>\n",
       "      <td>268.0</td>\n",
       "      <td>66</td>\n",
       "      <td>0.01</td>\n",
       "      <td>73.219243</td>\n",
       "      <td>64.0</td>\n",
       "      <td>430</td>\n",
       "      <td>18.1</td>\n",
       "      <td>...</td>\n",
       "      <td>8.13</td>\n",
       "      <td>64.0</td>\n",
       "      <td>0.1</td>\n",
       "      <td>631.744976</td>\n",
       "      <td>31731688.0</td>\n",
       "      <td>17.7</td>\n",
       "      <td>17.7</td>\n",
       "      <td>0.470</td>\n",
       "      <td>9.9</td>\n",
       "      <td>59.9</td>\n",
       "    </tr>\n",
       "    <tr>\n",
       "      <th>3</th>\n",
       "      <td>Afghanistan</td>\n",
       "      <td>2012</td>\n",
       "      <td>Developing</td>\n",
       "      <td>272.0</td>\n",
       "      <td>69</td>\n",
       "      <td>0.01</td>\n",
       "      <td>78.184215</td>\n",
       "      <td>67.0</td>\n",
       "      <td>2787</td>\n",
       "      <td>17.6</td>\n",
       "      <td>...</td>\n",
       "      <td>8.52</td>\n",
       "      <td>67.0</td>\n",
       "      <td>0.1</td>\n",
       "      <td>669.959000</td>\n",
       "      <td>3696958.0</td>\n",
       "      <td>17.9</td>\n",
       "      <td>18.0</td>\n",
       "      <td>0.463</td>\n",
       "      <td>9.8</td>\n",
       "      <td>59.5</td>\n",
       "    </tr>\n",
       "    <tr>\n",
       "      <th>4</th>\n",
       "      <td>Afghanistan</td>\n",
       "      <td>2011</td>\n",
       "      <td>Developing</td>\n",
       "      <td>275.0</td>\n",
       "      <td>71</td>\n",
       "      <td>0.01</td>\n",
       "      <td>7.097109</td>\n",
       "      <td>68.0</td>\n",
       "      <td>3013</td>\n",
       "      <td>17.2</td>\n",
       "      <td>...</td>\n",
       "      <td>7.87</td>\n",
       "      <td>68.0</td>\n",
       "      <td>0.1</td>\n",
       "      <td>63.537231</td>\n",
       "      <td>2978599.0</td>\n",
       "      <td>18.2</td>\n",
       "      <td>18.2</td>\n",
       "      <td>0.454</td>\n",
       "      <td>9.5</td>\n",
       "      <td>59.2</td>\n",
       "    </tr>\n",
       "    <tr>\n",
       "      <th>...</th>\n",
       "      <td>...</td>\n",
       "      <td>...</td>\n",
       "      <td>...</td>\n",
       "      <td>...</td>\n",
       "      <td>...</td>\n",
       "      <td>...</td>\n",
       "      <td>...</td>\n",
       "      <td>...</td>\n",
       "      <td>...</td>\n",
       "      <td>...</td>\n",
       "      <td>...</td>\n",
       "      <td>...</td>\n",
       "      <td>...</td>\n",
       "      <td>...</td>\n",
       "      <td>...</td>\n",
       "      <td>...</td>\n",
       "      <td>...</td>\n",
       "      <td>...</td>\n",
       "      <td>...</td>\n",
       "      <td>...</td>\n",
       "      <td>...</td>\n",
       "    </tr>\n",
       "    <tr>\n",
       "      <th>2933</th>\n",
       "      <td>Zimbabwe</td>\n",
       "      <td>2004</td>\n",
       "      <td>Developing</td>\n",
       "      <td>723.0</td>\n",
       "      <td>27</td>\n",
       "      <td>4.36</td>\n",
       "      <td>0.000000</td>\n",
       "      <td>68.0</td>\n",
       "      <td>31</td>\n",
       "      <td>27.1</td>\n",
       "      <td>...</td>\n",
       "      <td>7.13</td>\n",
       "      <td>65.0</td>\n",
       "      <td>33.6</td>\n",
       "      <td>454.366654</td>\n",
       "      <td>12777511.0</td>\n",
       "      <td>9.4</td>\n",
       "      <td>9.4</td>\n",
       "      <td>0.407</td>\n",
       "      <td>9.2</td>\n",
       "      <td>44.3</td>\n",
       "    </tr>\n",
       "    <tr>\n",
       "      <th>2934</th>\n",
       "      <td>Zimbabwe</td>\n",
       "      <td>2003</td>\n",
       "      <td>Developing</td>\n",
       "      <td>715.0</td>\n",
       "      <td>26</td>\n",
       "      <td>4.06</td>\n",
       "      <td>0.000000</td>\n",
       "      <td>7.0</td>\n",
       "      <td>998</td>\n",
       "      <td>26.7</td>\n",
       "      <td>...</td>\n",
       "      <td>6.52</td>\n",
       "      <td>68.0</td>\n",
       "      <td>36.7</td>\n",
       "      <td>453.351155</td>\n",
       "      <td>12633897.0</td>\n",
       "      <td>9.8</td>\n",
       "      <td>9.9</td>\n",
       "      <td>0.418</td>\n",
       "      <td>9.5</td>\n",
       "      <td>44.5</td>\n",
       "    </tr>\n",
       "    <tr>\n",
       "      <th>2935</th>\n",
       "      <td>Zimbabwe</td>\n",
       "      <td>2002</td>\n",
       "      <td>Developing</td>\n",
       "      <td>73.0</td>\n",
       "      <td>25</td>\n",
       "      <td>4.43</td>\n",
       "      <td>0.000000</td>\n",
       "      <td>73.0</td>\n",
       "      <td>304</td>\n",
       "      <td>26.3</td>\n",
       "      <td>...</td>\n",
       "      <td>6.53</td>\n",
       "      <td>71.0</td>\n",
       "      <td>39.8</td>\n",
       "      <td>57.348340</td>\n",
       "      <td>125525.0</td>\n",
       "      <td>1.2</td>\n",
       "      <td>1.3</td>\n",
       "      <td>0.427</td>\n",
       "      <td>10.0</td>\n",
       "      <td>44.8</td>\n",
       "    </tr>\n",
       "    <tr>\n",
       "      <th>2936</th>\n",
       "      <td>Zimbabwe</td>\n",
       "      <td>2001</td>\n",
       "      <td>Developing</td>\n",
       "      <td>686.0</td>\n",
       "      <td>25</td>\n",
       "      <td>1.72</td>\n",
       "      <td>0.000000</td>\n",
       "      <td>76.0</td>\n",
       "      <td>529</td>\n",
       "      <td>25.9</td>\n",
       "      <td>...</td>\n",
       "      <td>6.16</td>\n",
       "      <td>75.0</td>\n",
       "      <td>42.1</td>\n",
       "      <td>548.587312</td>\n",
       "      <td>12366165.0</td>\n",
       "      <td>1.6</td>\n",
       "      <td>1.7</td>\n",
       "      <td>0.427</td>\n",
       "      <td>9.8</td>\n",
       "      <td>45.3</td>\n",
       "    </tr>\n",
       "    <tr>\n",
       "      <th>2937</th>\n",
       "      <td>Zimbabwe</td>\n",
       "      <td>2000</td>\n",
       "      <td>Developing</td>\n",
       "      <td>665.0</td>\n",
       "      <td>24</td>\n",
       "      <td>1.68</td>\n",
       "      <td>0.000000</td>\n",
       "      <td>79.0</td>\n",
       "      <td>1483</td>\n",
       "      <td>25.5</td>\n",
       "      <td>...</td>\n",
       "      <td>7.10</td>\n",
       "      <td>78.0</td>\n",
       "      <td>43.5</td>\n",
       "      <td>547.358879</td>\n",
       "      <td>12222251.0</td>\n",
       "      <td>11.0</td>\n",
       "      <td>11.2</td>\n",
       "      <td>0.434</td>\n",
       "      <td>9.8</td>\n",
       "      <td>46.0</td>\n",
       "    </tr>\n",
       "  </tbody>\n",
       "</table>\n",
       "<p>2938 rows × 22 columns</p>\n",
       "</div>"
      ],
      "text/plain": [
       "          Country  Year      Status  Adult Mortality  infant deaths  Alcohol  \\\n",
       "0     Afghanistan  2015  Developing            263.0             62     0.01   \n",
       "1     Afghanistan  2014  Developing            271.0             64     0.01   \n",
       "2     Afghanistan  2013  Developing            268.0             66     0.01   \n",
       "3     Afghanistan  2012  Developing            272.0             69     0.01   \n",
       "4     Afghanistan  2011  Developing            275.0             71     0.01   \n",
       "...           ...   ...         ...              ...            ...      ...   \n",
       "2933     Zimbabwe  2004  Developing            723.0             27     4.36   \n",
       "2934     Zimbabwe  2003  Developing            715.0             26     4.06   \n",
       "2935     Zimbabwe  2002  Developing             73.0             25     4.43   \n",
       "2936     Zimbabwe  2001  Developing            686.0             25     1.72   \n",
       "2937     Zimbabwe  2000  Developing            665.0             24     1.68   \n",
       "\n",
       "      percentage expenditure  Hepatitis B  Measles    BMI   ...  \\\n",
       "0                  71.279624         65.0      1154   19.1  ...   \n",
       "1                  73.523582         62.0       492   18.6  ...   \n",
       "2                  73.219243         64.0       430   18.1  ...   \n",
       "3                  78.184215         67.0      2787   17.6  ...   \n",
       "4                   7.097109         68.0      3013   17.2  ...   \n",
       "...                      ...          ...       ...    ...  ...   \n",
       "2933                0.000000         68.0        31   27.1  ...   \n",
       "2934                0.000000          7.0       998   26.7  ...   \n",
       "2935                0.000000         73.0       304   26.3  ...   \n",
       "2936                0.000000         76.0       529   25.9  ...   \n",
       "2937                0.000000         79.0      1483   25.5  ...   \n",
       "\n",
       "      Total expenditure  Diphtheria    HIV/AIDS         GDP  Population  \\\n",
       "0                  8.16         65.0        0.1  584.259210  33736494.0   \n",
       "1                  8.18         62.0        0.1  612.696514    327582.0   \n",
       "2                  8.13         64.0        0.1  631.744976  31731688.0   \n",
       "3                  8.52         67.0        0.1  669.959000   3696958.0   \n",
       "4                  7.87         68.0        0.1   63.537231   2978599.0   \n",
       "...                 ...          ...        ...         ...         ...   \n",
       "2933               7.13         65.0       33.6  454.366654  12777511.0   \n",
       "2934               6.52         68.0       36.7  453.351155  12633897.0   \n",
       "2935               6.53         71.0       39.8   57.348340    125525.0   \n",
       "2936               6.16         75.0       42.1  548.587312  12366165.0   \n",
       "2937               7.10         78.0       43.5  547.358879  12222251.0   \n",
       "\n",
       "       thinness  1-19 years   thinness 5-9 years  \\\n",
       "0                      17.2                 17.3   \n",
       "1                      17.5                 17.5   \n",
       "2                      17.7                 17.7   \n",
       "3                      17.9                 18.0   \n",
       "4                      18.2                 18.2   \n",
       "...                     ...                  ...   \n",
       "2933                    9.4                  9.4   \n",
       "2934                    9.8                  9.9   \n",
       "2935                    1.2                  1.3   \n",
       "2936                    1.6                  1.7   \n",
       "2937                   11.0                 11.2   \n",
       "\n",
       "      Income composition of resources  Schooling  Life expectancy  \n",
       "0                               0.479       10.1             65.0  \n",
       "1                               0.476       10.0             59.9  \n",
       "2                               0.470        9.9             59.9  \n",
       "3                               0.463        9.8             59.5  \n",
       "4                               0.454        9.5             59.2  \n",
       "...                               ...        ...              ...  \n",
       "2933                            0.407        9.2             44.3  \n",
       "2934                            0.418        9.5             44.5  \n",
       "2935                            0.427       10.0             44.8  \n",
       "2936                            0.427        9.8             45.3  \n",
       "2937                            0.434        9.8             46.0  \n",
       "\n",
       "[2938 rows x 22 columns]"
      ]
     },
     "execution_count": 3,
     "metadata": {},
     "output_type": "execute_result"
    }
   ],
   "source": [
    "column_names = []\n",
    "dataset = pd.read_csv('life_expectancy.csv')\n",
    "dataset"
   ]
  },
  {
   "cell_type": "markdown",
   "id": "1e0b4cda-896d-4e97-8cd9-93d807eb07e1",
   "metadata": {},
   "source": [
    "# Inspect Data"
   ]
  },
  {
   "cell_type": "code",
   "execution_count": 4,
   "id": "4d68c1f7-e632-4b70-b9ea-fce9587c981b",
   "metadata": {
    "tags": []
   },
   "outputs": [
    {
     "name": "stdout",
     "output_type": "stream",
     "text": [
      "-------- LIFE EXPECTANCY --------\n",
      "count    2938.000000\n",
      "mean       69.234717\n",
      "std         9.509115\n",
      "min        36.300000\n",
      "25%        63.200000\n",
      "50%        72.100000\n",
      "75%        75.600000\n",
      "max        89.000000\n",
      "Name: life expectancy, dtype: float64\n",
      " --------------------------------- \n"
     ]
    }
   ],
   "source": [
    "# remove all empty spaces and remove all capital letters for ease of use and clearity. \n",
    "dataset.rename(columns=(lambda x : x.strip().lower()), inplace=True)\n",
    "\n",
    "# check the predictable column. \n",
    "print('-------- LIFE EXPECTANCY --------')\n",
    "print(dataset['life expectancy'].describe())\n",
    "print(' --------------------------------- ')\n",
    "# this data has some outliers that might need to be regularized. "
   ]
  },
  {
   "cell_type": "markdown",
   "id": "b03d6c83-92c2-4278-aaa5-a0c0dcb6c777",
   "metadata": {},
   "source": [
    "# Clean Dataset"
   ]
  },
  {
   "cell_type": "code",
   "execution_count": 5,
   "id": "54b86fbe-22aa-4b46-a281-1a4fd0560e5a",
   "metadata": {
    "tags": []
   },
   "outputs": [
    {
     "name": "stdout",
     "output_type": "stream",
     "text": [
      "<class 'pandas.core.frame.DataFrame'>\n",
      "RangeIndex: 2938 entries, 0 to 2937\n",
      "Data columns (total 20 columns):\n",
      " #   Column                           Non-Null Count  Dtype  \n",
      "---  ------                           --------------  -----  \n",
      " 0   year                             2938 non-null   int64  \n",
      " 1   adult mortality                  2938 non-null   float64\n",
      " 2   infant deaths                    2938 non-null   int64  \n",
      " 3   alcohol                          2938 non-null   float64\n",
      " 4   percentage expenditure           2938 non-null   float64\n",
      " 5   hepatitis b                      2938 non-null   float64\n",
      " 6   measles                          2938 non-null   int64  \n",
      " 7   bmi                              2938 non-null   float64\n",
      " 8   under-five deaths                2938 non-null   int64  \n",
      " 9   polio                            2938 non-null   float64\n",
      " 10  total expenditure                2938 non-null   float64\n",
      " 11  diphtheria                       2938 non-null   float64\n",
      " 12  hiv/aids                         2938 non-null   float64\n",
      " 13  gdp                              2938 non-null   float64\n",
      " 14  population                       2938 non-null   float64\n",
      " 15  thinness  1-19 years             2938 non-null   float64\n",
      " 16  thinness 5-9 years               2938 non-null   float64\n",
      " 17  income composition of resources  2938 non-null   float64\n",
      " 18  schooling                        2938 non-null   float64\n",
      " 19  life expectancy                  2938 non-null   float64\n",
      "dtypes: float64(16), int64(4)\n",
      "memory usage: 459.2 KB\n",
      "None\n"
     ]
    }
   ],
   "source": [
    "# drop country from dataset. we want to generalize accross all countrys. \n",
    "dataset = dataset.drop(columns=['country'])\n",
    "dataset = dataset.drop(columns=['status'])\n",
    "print(dataset.info())"
   ]
  },
  {
   "cell_type": "markdown",
   "id": "55b79818-9aca-4f85-8935-b3a922d474ad",
   "metadata": {},
   "source": [
    "# Create Features and Labels"
   ]
  },
  {
   "cell_type": "code",
   "execution_count": 45,
   "id": "260113ac-c234-484f-92af-e652da166fda",
   "metadata": {
    "tags": []
   },
   "outputs": [],
   "source": [
    "# create labels\n",
    "labels = dataset['life expectancy']\n",
    "# create features\n",
    "features = dataset.iloc[:,0:len(dataset.columns)-1]\n",
    "\n",
    "\n",
    "# collect a list of column names from features \n",
    "feature_column_names = []\n",
    "for i in features:\n",
    "    feature_column_names.append(i)\n",
    "# features = pd.get_dummies(features, columns=feature_column_names)\n",
    "\n",
    "# feature_column_dummy_names = []\n",
    "# for i in features:\n",
    "#     feature_column_dummy_names.append(i)"
   ]
  },
  {
   "cell_type": "markdown",
   "id": "3a090975-50de-4866-a697-72ab810d251d",
   "metadata": {},
   "source": [
    "# Split Data"
   ]
  },
  {
   "cell_type": "code",
   "execution_count": 46,
   "id": "0ed5f852-e997-47d2-9056-f275eb646482",
   "metadata": {
    "tags": []
   },
   "outputs": [],
   "source": [
    "# Create a training set and validation set\n",
    "f_train, f_test, l_train, l_test = train_test_split(features, labels, test_size=.2, random_state= 21)"
   ]
  },
  {
   "cell_type": "markdown",
   "id": "ddae877a-4b83-4408-abec-4f5f701c681f",
   "metadata": {},
   "source": [
    "# PreProcess Features "
   ]
  },
  {
   "cell_type": "code",
   "execution_count": 47,
   "id": "df7c43c2-7085-44dd-ba1d-f138efe96f74",
   "metadata": {
    "tags": []
   },
   "outputs": [],
   "source": [
    "# normalize the numerical data to be useful\n",
    "ct = ColumnTransformer([('normilize', Normalizer(), feature_column_dummy_names)], remainder='passthrough')\n",
    "f_train_scaled = ct.fit_transform(f_train)\n",
    "f_test_scaled = ct.transform(f_test)"
   ]
  },
  {
   "cell_type": "markdown",
   "id": "8efd555b-af87-40f3-ba23-a3bd9d67a26c",
   "metadata": {},
   "source": [
    "# Build Model"
   ]
  },
  {
   "cell_type": "code",
   "execution_count": 48,
   "id": "b5728e2a-b9ca-40c2-bc37-99b656f0ec44",
   "metadata": {
    "tags": []
   },
   "outputs": [],
   "source": [
    "from tensorflow.keras.models import Sequential\n",
    "from tensorflow.keras.layers import InputLayer, Dense\n",
    "from tensorflow.keras import layers\n",
    "\n",
    "learning_rate = 0.002\n",
    "\n",
    "my_model = Sequential()\n",
    "input = InputLayer(f_train.shape[1]) # number of input layers from the number of features\n",
    "my_model.add(input) # added input layers \n",
    "my_model.add(layers.Dense(1, activation='linear'))\n",
    "opt = tf.keras.optimizers.Adamax(learning_rate = learning_rate) #setting the learning rate of Adam to the one specified in the function parameter\n",
    "my_model.compile(loss='mse', metrics=['mae'], optimizer=opt) # output parameters to look at"
   ]
  },
  {
   "cell_type": "code",
   "execution_count": 49,
   "id": "0878a61f-7da8-4c4a-993c-ba8ad6450ecb",
   "metadata": {
    "tags": []
   },
   "outputs": [
    {
     "name": "stdout",
     "output_type": "stream",
     "text": [
      "Epoch 1/20\n",
      "196/196 [==============================] - 1s 4ms/step - loss: 4830.1313 - mae: 68.8486 - val_loss: 4838.9292 - val_mae: 68.9252\n",
      "Epoch 2/20\n",
      "196/196 [==============================] - 1s 3ms/step - loss: 4747.3711 - mae: 68.2530 - val_loss: 4756.6284 - val_mae: 68.3324\n",
      "Epoch 3/20\n",
      "196/196 [==============================] - 1s 3ms/step - loss: 4666.5342 - mae: 67.6649 - val_loss: 4675.8823 - val_mae: 67.7455\n",
      "Epoch 4/20\n",
      "196/196 [==============================] - 1s 3ms/step - loss: 4586.9966 - mae: 67.0828 - val_loss: 4596.8052 - val_mae: 67.1656\n",
      "Epoch 5/20\n",
      "196/196 [==============================] - 1s 3ms/step - loss: 4508.7686 - mae: 66.5036 - val_loss: 4517.9053 - val_mae: 66.5823\n",
      "Epoch 6/20\n",
      "196/196 [==============================] - 1s 3ms/step - loss: 4430.0669 - mae: 65.9185 - val_loss: 4439.2261 - val_mae: 65.9954\n",
      "Epoch 7/20\n",
      "196/196 [==============================] - 1s 3ms/step - loss: 4352.4453 - mae: 65.3339 - val_loss: 4361.0098 - val_mae: 65.4064\n",
      "Epoch 8/20\n",
      "196/196 [==============================] - 1s 3ms/step - loss: 4275.1567 - mae: 64.7472 - val_loss: 4283.8608 - val_mae: 64.8201\n",
      "Epoch 9/20\n",
      "196/196 [==============================] - 1s 3ms/step - loss: 4198.6313 - mae: 64.1605 - val_loss: 4207.2383 - val_mae: 64.2328\n",
      "Epoch 10/20\n",
      "196/196 [==============================] - 1s 3ms/step - loss: 4123.4092 - mae: 63.5793 - val_loss: 4131.8374 - val_mae: 63.6495\n",
      "Epoch 11/20\n",
      "196/196 [==============================] - 1s 3ms/step - loss: 4048.9663 - mae: 62.9984 - val_loss: 4057.3694 - val_mae: 63.0680\n",
      "Epoch 12/20\n",
      "196/196 [==============================] - 1s 3ms/step - loss: 3975.0886 - mae: 62.4168 - val_loss: 3983.3989 - val_mae: 62.4849\n",
      "Epoch 13/20\n",
      "196/196 [==============================] - 1s 3ms/step - loss: 3901.5620 - mae: 61.8318 - val_loss: 3909.2947 - val_mae: 61.8952\n",
      "Epoch 14/20\n",
      "196/196 [==============================] - 1s 4ms/step - loss: 3828.5024 - mae: 61.2454 - val_loss: 3836.1577 - val_mae: 61.3077\n",
      "Epoch 15/20\n",
      "196/196 [==============================] - 1s 3ms/step - loss: 3756.4128 - mae: 60.6622 - val_loss: 3764.5872 - val_mae: 60.7272\n",
      "Epoch 16/20\n",
      "196/196 [==============================] - 1s 3ms/step - loss: 3685.4050 - mae: 60.0814 - val_loss: 3693.1750 - val_mae: 60.1422\n",
      "Epoch 17/20\n",
      "196/196 [==============================] - 1s 3ms/step - loss: 3615.3379 - mae: 59.5013 - val_loss: 3623.2627 - val_mae: 59.5638\n",
      "Epoch 18/20\n",
      "196/196 [==============================] - 1s 3ms/step - loss: 3546.0356 - mae: 58.9218 - val_loss: 3553.3188 - val_mae: 58.9795\n",
      "Epoch 19/20\n",
      "196/196 [==============================] - 1s 3ms/step - loss: 3476.6597 - mae: 58.3376 - val_loss: 3483.8018 - val_mae: 58.3927\n",
      "Epoch 20/20\n",
      "196/196 [==============================] - 1s 3ms/step - loss: 3408.1633 - mae: 57.7541 - val_loss: 3415.8123 - val_mae: 57.8132\n",
      "3415.81201171875 57.81318283081055\n"
     ]
    }
   ],
   "source": [
    "history = my_model.fit(f_train_scaled, l_train, epochs=20, batch_size=12, verbose=1, validation_data= (f_test_scaled, l_test))   \n",
    "train_mse , train_mae = my_model.evaluate(f_train_scaled, l_train, verbose=0)\n",
    "mse , mae = my_model.evaluate(f_test_scaled, l_test, verbose=0)\n",
    "print(mse, mae)"
   ]
  },
  {
   "cell_type": "code",
   "execution_count": 11,
   "id": "2c8e1490",
   "metadata": {
    "tags": []
   },
   "outputs": [
    {
     "name": "stdout",
     "output_type": "stream",
     "text": [
      "Training MSE:  68.62429809570312 Training MAE :  6.653829574584961\n",
      "Testing MSE:  69.81774139404297 Testing MAE:  6.594973087310791\n"
     ]
    }
   ],
   "source": [
    "print('Training MSE: ', train_mse,'Training MAE : ',  train_mae)\n",
    "print('Testing MSE: ',mse,'Testing MAE: ', mae)"
   ]
  },
  {
   "cell_type": "code",
   "execution_count": 21,
   "id": "3a57be9a-92a3-48b5-b45d-52bb4fc962a1",
   "metadata": {
    "tags": []
   },
   "outputs": [
    {
     "name": "stdout",
     "output_type": "stream",
     "text": [
      "1/1 [==============================] - 0s 34ms/step\n",
      "[[67.656265]\n",
      " [67.64993 ]\n",
      " [70.33286 ]]\n",
      "1556    64.7\n",
      "1787    59.2\n",
      "2845    71.4\n",
      "Name: life expectancy, dtype: float64\n"
     ]
    }
   ],
   "source": [
    "from sklearn.metrics import accuracy_score\n",
    "labels_test = l_test[:3]\n",
    "y_pred = my_model.predict(f_test_scaled[:3])\n",
    "print(y_pred)\n",
    "print(labels_test)"
   ]
  },
  {
   "cell_type": "code",
   "execution_count": 31,
   "id": "74e4ec04",
   "metadata": {
    "tags": []
   },
   "outputs": [
    {
     "data": {
      "text/plain": [
       "<matplotlib.legend.Legend at 0x17fb97bb0d0>"
      ]
     },
     "execution_count": 31,
     "metadata": {},
     "output_type": "execute_result"
    },
    {
     "data": {
      "image/png": "[encoded data removed]",
      "text/plain": [
       "<Figure size 640x480 with 1 Axes>"
      ]
     },
     "metadata": {},
     "output_type": "display_data"
    }
   ],
   "source": [
    "import seaborn as sns\n",
    "import matplotlib.pyplot as plt\n",
    "\n",
    "plt.plot(history.history['loss'], label='train')\n",
    "plt.plot(history.history['val_loss'], label='validation')\n",
    "plt.title('batch = 4', fontdict={'fontsize': 8, 'fontweight': 'medium'})\n",
    "plt.xlabel('# epochs')\n",
    "plt.ylabel('mae')\n",
    "plt.legend()"
   ]
  }
 ],
 "metadata": {
  "kernelspec": {
   "display_name": "Python 3 (ipykernel)",
   "language": "python",
   "name": "python3"
  },
  "language_info": {
   "codemirror_mode": {
    "name": "ipython",
    "version": 3
   },
   "file_extension": ".py",
   "mimetype": "text/x-python",
   "name": "python",
   "nbconvert_exporter": "python",
   "pygments_lexer": "ipython3",
   "version": "3.10.13"
  }
 },
 "nbformat": 4,
 "nbformat_minor": 5
}
