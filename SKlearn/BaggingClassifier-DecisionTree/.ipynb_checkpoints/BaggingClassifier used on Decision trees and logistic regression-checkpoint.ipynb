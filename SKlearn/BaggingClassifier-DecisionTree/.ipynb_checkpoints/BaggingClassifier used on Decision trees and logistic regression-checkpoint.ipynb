{
 "cells": [
  {
   "cell_type": "code",
   "execution_count": 2,
   "id": "91e557de-0edf-4e8c-9339-c0f7f2407db6",
   "metadata": {},
   "outputs": [],
   "source": [
    "import pandas as pd\n",
    "import numpy as np\n",
    "from sklearn.model_selection import train_test_split\n",
    "from sklearn.tree import DecisionTreeClassifier\n",
    "from sklearn.ensemble import RandomForestClassifier, BaggingClassifier, RandomForestRegressor\n",
    "from sklearn.metrics import accuracy_score"
   ]
  },
  {
   "cell_type": "markdown",
   "id": "bbabc8da-4625-42bc-874e-7789e2a74866",
   "metadata": {},
   "source": [
    "# Load Data\n"
   ]
  },
  {
   "cell_type": "code",
   "execution_count": 3,
   "id": "615d426a-a82f-4ef9-be30-04f85ac006e1",
   "metadata": {},
   "outputs": [],
   "source": [
    "df = pd.read_csv('https://archive.ics.uci.edu/ml/machine-learning-databases/car/car.data', names=['buying', 'maint', 'doors', 'persons', 'lug_boot', 'safety', 'accep'])"
   ]
  },
  {
   "cell_type": "markdown",
   "id": "8ca4808c-b2dd-4927-b2e3-bc67a42c01ef",
   "metadata": {},
   "source": [
    "# One Hot Encode Features and Create Binary Target"
   ]
  },
  {
   "cell_type": "code",
   "execution_count": 4,
   "id": "2bd07af3-28dd-45fb-a0bf-175648c9eacc",
   "metadata": {},
   "outputs": [],
   "source": [
    "df['accep'] = ~(df['accep']=='unacc') #1 is acceptable, 0 if not acceptable\n",
    "X = pd.get_dummies(df.iloc[:,0:6], drop_first=True)\n",
    "y = df['accep']"
   ]
  },
  {
   "cell_type": "markdown",
   "id": "a22ccf12-a2ff-4f6b-ba6a-ed3bd584aded",
   "metadata": {},
   "source": [
    "# Split Data"
   ]
  },
  {
   "cell_type": "code",
   "execution_count": 5,
   "id": "d76cc32e-25d6-4c4e-9742-7a375672e60e",
   "metadata": {},
   "outputs": [],
   "source": [
    "x_train, x_test, y_train, y_test = train_test_split(X,y, random_state=0, test_size=0.25)"
   ]
  },
  {
   "cell_type": "markdown",
   "id": "d7cd8a33-30d4-442b-9462-4afd1f3ea059",
   "metadata": {},
   "source": [
    "# Build Model"
   ]
  },
  {
   "cell_type": "code",
   "execution_count": 6,
   "id": "c765b576-43fc-4327-b3bc-ce78e7329621",
   "metadata": {},
   "outputs": [
    {
     "name": "stdout",
     "output_type": "stream",
     "text": [
      "Accuracy score of Bagged Classifier, 10 estimators:\n",
      "0.9189814814814815\n"
     ]
    }
   ],
   "source": [
    "# 1. Bagging classifier with 10 Decision Tree base estimators\n",
    "bag_dt = BaggingClassifier(DecisionTreeClassifier(max_depth=5), n_estimators=10)\n",
    "bag_dt.fit(x_train, y_train)\n",
    "bag_dt.predict(x_test)\n",
    "bag_accuracy = bag_dt.score(x_test, y_test)\n",
    "print('Accuracy score of Bagged Classifier, 10 estimators:')\n",
    "print(bag_accuracy)"
   ]
  },
  {
   "cell_type": "markdown",
   "id": "ec7ff733-158e-416d-b21a-440ead9ff1bc",
   "metadata": {},
   "source": [
    "# Tune Model with Max 10 Features"
   ]
  },
  {
   "cell_type": "code",
   "execution_count": 7,
   "id": "db00ce6f-6112-4430-9b22-0ac6cdfa26b1",
   "metadata": {},
   "outputs": [
    {
     "name": "stdout",
     "output_type": "stream",
     "text": [
      "Accuracy score of Bagged Classifier, 10 estimators, 10 max features:\n",
      "0.8726851851851852\n"
     ]
    }
   ],
   "source": [
    "# 2.Set `max_features` to 10.\n",
    "bag_dt_10 = BaggingClassifier(DecisionTreeClassifier(max_depth=5), n_estimators=10, max_features=10)\n",
    "bag_dt_10.fit(x_train, y_train)\n",
    "\n",
    "bag_accuracy_10 = bag_dt_10.score(x_test, y_test)\n",
    "print('Accuracy score of Bagged Classifier, 10 estimators, 10 max features:')\n",
    "print(bag_accuracy_10)"
   ]
  },
  {
   "cell_type": "markdown",
   "id": "62b281cd-b301-49ec-8913-2d6fb25811b5",
   "metadata": {},
   "source": [
    "# Tune Model With Logistic Regression"
   ]
  },
  {
   "cell_type": "code",
   "execution_count": 8,
   "id": "0a52fc43-d099-4a6f-a659-8209c82689b3",
   "metadata": {},
   "outputs": [
    {
     "name": "stdout",
     "output_type": "stream",
     "text": [
      "Accuracy score of Logistic Regression, 10 estimators, 10 max features:\n",
      "0.9143518518518519\n"
     ]
    }
   ],
   "source": [
    "# 3. Change base estimator to Logistic Regression\n",
    "from sklearn.linear_model import LogisticRegression\n",
    "bag_lr = BaggingClassifier(LogisticRegression(), n_estimators=10, max_features=10)\n",
    "bag_lr.fit(x_train, y_train)\n",
    "\n",
    "print('Accuracy score of Logistic Regression, 10 estimators, 10 max features:')\n",
    "bag_accuracy_lr= bag_lr.score(x_test, y_test)\n",
    "print(bag_accuracy_lr)"
   ]
  }
 ],
 "metadata": {
  "kernelspec": {
   "display_name": "Python 3 (ipykernel)",
   "language": "python",
   "name": "python3"
  },
  "language_info": {
   "codemirror_mode": {
    "name": "ipython",
    "version": 3
   },
   "file_extension": ".py",
   "mimetype": "text/x-python",
   "name": "python",
   "nbconvert_exporter": "python",
   "pygments_lexer": "ipython3",
   "version": "3.10.13"
  }
 },
 "nbformat": 4,
 "nbformat_minor": 5
}
