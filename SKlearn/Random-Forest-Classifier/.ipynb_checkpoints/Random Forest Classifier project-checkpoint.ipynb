{
 "cells": [
  {
   "cell_type": "code",
   "execution_count": 1,
   "id": "d8537b99-8d74-4731-a14b-f35eceb2b796",
   "metadata": {
    "tags": []
   },
   "outputs": [],
   "source": [
    "import pandas as pd\n",
    "import numpy as np\n",
    "import matplotlib.pyplot as plt\n",
    "import seaborn as sns\n",
    "\n",
    "#Import models from scikit learn module:\n",
    "from sklearn.model_selection import train_test_split\n",
    "from sklearn.tree import DecisionTreeClassifier\n",
    "from sklearn.ensemble import RandomForestClassifier, BaggingClassifier, RandomForestRegressor\n",
    "from sklearn import tree\n",
    "from sklearn.linear_model import LogisticRegression\n",
    "from sklearn.metrics import accuracy_score, precision_score, recall_score, f1_score, roc_auc_score"
   ]
  },
  {
   "cell_type": "markdown",
   "id": "b3f012a5-08e2-4fb3-afcd-968e97fa2cf0",
   "metadata": {},
   "source": [
    "# Load Data"
   ]
  },
  {
   "cell_type": "code",
   "execution_count": 2,
   "id": "773be2af-d8b2-4011-9bfc-b74508f379e7",
   "metadata": {
    "tags": []
   },
   "outputs": [],
   "source": [
    "col_names = ['age', 'workclass', 'fnlwgt','education', 'education-num', \n",
    "'marital-status', 'occupation', 'relationship', 'race', 'sex',\n",
    "'capital-gain','capital-loss', 'hours-per-week','native-country', 'income']\n",
    "df = pd.read_csv('adult.csv', header=None, names = col_names)"
   ]
  },
  {
   "cell_type": "markdown",
   "id": "7dca73a9-8fb3-4596-8279-e04757398333",
   "metadata": {},
   "source": [
    "# Inspect Data"
   ]
  },
  {
   "cell_type": "code",
   "execution_count": 3,
   "id": "8f890900-2da9-48ec-831e-f4673039cd89",
   "metadata": {
    "tags": []
   },
   "outputs": [
    {
     "name": "stdout",
     "output_type": "stream",
     "text": [
      "income\n",
      " <=50K    0.75919\n",
      " >50K     0.24081\n",
      "Name: proportion, dtype: float64\n"
     ]
    }
   ],
   "source": [
    "#Distribution of income\n",
    "print(df['income'].value_counts(normalize=True))"
   ]
  },
  {
   "cell_type": "code",
   "execution_count": 4,
   "id": "e23f38eb-69a7-4b3e-9272-ea207fe25e17",
   "metadata": {
    "tags": []
   },
   "outputs": [
    {
     "name": "stdout",
     "output_type": "stream",
     "text": [
      "age                int64\n",
      "workclass         object\n",
      "fnlwgt             int64\n",
      "education         object\n",
      "education-num      int64\n",
      "marital-status    object\n",
      "occupation        object\n",
      "relationship      object\n",
      "race              object\n",
      "sex               object\n",
      "capital-gain       int64\n",
      "capital-loss       int64\n",
      "hours-per-week     int64\n",
      "native-country    object\n",
      "income            object\n",
      "dtype: object\n"
     ]
    }
   ],
   "source": [
    "print(df.dtypes)"
   ]
  },
  {
   "cell_type": "markdown",
   "id": "b98c8158-b9c3-4e25-ba6c-ab05cf9ef9e1",
   "metadata": {},
   "source": [
    "# Clean Data"
   ]
  },
  {
   "cell_type": "code",
   "execution_count": 5,
   "id": "9ed0f59a-d2d7-433d-8f10-cfcc4cc6fe88",
   "metadata": {
    "tags": []
   },
   "outputs": [],
   "source": [
    "#Clean columns by stripping extra whitespace for columns of object type\n",
    "df['workclass']=df['workclass'].str.strip()\n",
    "df['education']=df['education'].str.strip()\n",
    "df['marital-status']=df['marital-status'].str.strip()\n",
    "df['occupation']=df['occupation'].str.strip()\n",
    "df['relationship']=df['relationship'].str.strip()\n",
    "df['race']=df['race'].str.strip()\n",
    "df['sex']=df['sex'].str.strip()\n",
    "df['native-country']=df['native-country'].str.strip()\n",
    "df['income']=df['income'].str.strip()"
   ]
  },
  {
   "cell_type": "markdown",
   "id": "19f733e5-6f03-4a36-837f-f167a281105f",
   "metadata": {},
   "source": [
    "# Create Features and Target"
   ]
  },
  {
   "cell_type": "code",
   "execution_count": 6,
   "id": "3f313254-1099-4db1-9741-e57c233052d9",
   "metadata": {
    "tags": []
   },
   "outputs": [
    {
     "name": "stdout",
     "output_type": "stream",
     "text": [
      "0         True\n",
      "1         True\n",
      "2         True\n",
      "3         True\n",
      "4         True\n",
      "         ...  \n",
      "32556     True\n",
      "32557    False\n",
      "32558     True\n",
      "32559     True\n",
      "32560    False\n",
      "Name: income, Length: 32561, dtype: bool\n"
     ]
    }
   ],
   "source": [
    "feature_cols = ['age',\n",
    "       'capital-gain', 'capital-loss', 'hours-per-week', 'sex','race']\n",
    "#Create feature dataframe X with feature columns and dummy variables for categorical features\n",
    "X = pd.get_dummies(df[feature_cols], drop_first=True)\n",
    "\n",
    "#Create output variable y which is binary, 0 when income is less than 50k, 1 when it is greather than 50k\n",
    "df['income'] = ~(df['income'] =='>50K')\n",
    "y = df['income']\n",
    "print(y)"
   ]
  },
  {
   "cell_type": "markdown",
   "id": "cb9194c8-dca1-424b-bd7d-d8c61481cc9e",
   "metadata": {},
   "source": [
    "# Split Data"
   ]
  },
  {
   "cell_type": "code",
   "execution_count": 7,
   "id": "c4759c30-9cb3-4d4b-a4e3-9a66d53ddd89",
   "metadata": {
    "tags": []
   },
   "outputs": [],
   "source": [
    "#Split data into a train and test set\n",
    "x_train, x_test, y_train, y_test= train_test_split(X,y, test_size=.2, random_state=1)"
   ]
  },
  {
   "cell_type": "markdown",
   "id": "b31e50eb-835f-4281-bf23-206868d5f989",
   "metadata": {},
   "source": [
    "# Build Model"
   ]
  },
  {
   "cell_type": "code",
   "execution_count": 8,
   "id": "80f457af-6315-4df3-90d4-7df5c38e3b3d",
   "metadata": {
    "tags": []
   },
   "outputs": [],
   "source": [
    "accuracy_train=[]\n",
    "accuracy_test = []\n",
    "for i in range(1,25):\n",
    "    rf_2 = RandomForestClassifier(max_depth=i)\n",
    "    rf_2.fit(x_train, y_train)\n",
    "    y_pred = rf_2.predict(x_test)\n",
    "    accuracy_train.append(accuracy_score(y_train, rf_2.predict(x_train)))\n",
    "    accuracy_test.append(accuracy_score(y_test,rf_2.predict(x_test)))"
   ]
  },
  {
   "cell_type": "markdown",
   "id": "e6d26848-24be-4e28-a3be-f3629cd8b87c",
   "metadata": {},
   "source": [
    "# Inspect Accuracy of Model"
   ]
  },
  {
   "cell_type": "code",
   "execution_count": 9,
   "id": "5cebb264-9cd0-4845-a82d-4e2fa57a931d",
   "metadata": {
    "tags": []
   },
   "outputs": [
    {
     "name": "stdout",
     "output_type": "stream",
     "text": [
      "0.8605651105651105\n",
      "0.8334101028711807\n",
      "14\n"
     ]
    }
   ],
   "source": [
    "#Find the best accuracy and at what depth that occurs\n",
    "best_accuracy_train = np.max(accuracy_train)\n",
    "best_accuracy_test = np.max(accuracy_test)\n",
    "best_depth = range(1,25)[np.argmax(accuracy_test)]\n",
    "print(best_accuracy_train)\n",
    "print(best_accuracy_test)\n",
    "print(best_depth)"
   ]
  },
  {
   "cell_type": "markdown",
   "id": "d8b79d00-eb5a-4820-86ac-285586d6cdc4",
   "metadata": {},
   "source": [
    "# Visualize Model"
   ]
  },
  {
   "cell_type": "code",
   "execution_count": 10,
   "id": "d2c639b5-209e-41b7-b3fd-9c1c079a5bb1",
   "metadata": {
    "tags": []
   },
   "outputs": [
    {
     "data": {
      "image/png": "[encoded data removed]",
      "text/plain": [
       "<Figure size 640x480 with 1 Axes>"
      ]
     },
     "metadata": {},
     "output_type": "display_data"
    }
   ],
   "source": [
    "#Plot the accuracy scores for the test and train set over the range of depth values  \n",
    "plt.plot(range(1,25), accuracy_test,'bo--',range(1,25), accuracy_train,'r*:')\n",
    "plt.xlabel('max_depth')\n",
    "plt.ylabel('accuracy')\n",
    "plt.legend(['test accuracy', 'train accuracy'])\n",
    "plt.show()"
   ]
  },
  {
   "cell_type": "markdown",
   "id": "0102cc0b-23e2-41d8-9089-e6b4fab8a5cb",
   "metadata": {},
   "source": [
    "# Add Extra Feautres to Train on"
   ]
  },
  {
   "cell_type": "code",
   "execution_count": 11,
   "id": "bf0bbe30-c993-421a-9e6e-3d68b8cd3a77",
   "metadata": {
    "tags": []
   },
   "outputs": [],
   "source": [
    "#Create two new features, based on education and native country\n",
    "bins = [0, 9, 13, 16]\n",
    "bin_labels = ['High school and less', 'College to Bachelors', 'masters and more']\n",
    "df['education_bin'] = pd.cut(df['education-num'], bins=bins, labels=bin_labels, right=False)\n",
    "feature_cols = ['age',\n",
    "       'capital-gain', 'capital-loss', 'hours-per-week', 'sex', 'race','education_bin']\n",
    "#Use these two new additional features and recreate X and test/train split\n",
    "X = pd.get_dummies(df[feature_cols], drop_first=True)"
   ]
  },
  {
   "cell_type": "markdown",
   "id": "42ce542f-8042-4157-9610-03815431f148",
   "metadata": {},
   "source": [
    "# Split New Data"
   ]
  },
  {
   "cell_type": "code",
   "execution_count": 12,
   "id": "b1f4dd2a-1f8d-45ff-a411-b54332573ba0",
   "metadata": {
    "tags": []
   },
   "outputs": [],
   "source": [
    "x_train, x_test, y_train, y_test= train_test_split(X,y, test_size=.2, random_state=1)"
   ]
  },
  {
   "cell_type": "markdown",
   "id": "f03217b6-e129-446f-ad49-a3bbd9612978",
   "metadata": {},
   "source": [
    "# Build New Model"
   ]
  },
  {
   "cell_type": "code",
   "execution_count": 13,
   "id": "ffe6f926-50b0-43dd-88d9-9cf2a3d22f75",
   "metadata": {
    "tags": []
   },
   "outputs": [],
   "source": [
    "#Find the best max depth now with the additional two features\n",
    "accuracy_test_2 = []\n",
    "accuracy_train_2 = []\n",
    "max_depth = range(1,10)\n",
    "\n",
    "for i in max_depth:\n",
    "    df_3 = RandomForestClassifier(max_depth=i)\n",
    "    df_3.fit(x_train, y_train)\n",
    "    y_pred = df_3.predict(x_test)\n",
    "    accuracy_train_2.append(accuracy_score(y_train, df_3.predict(x_train)))\n",
    "    accuracy_test_2.append(accuracy_score(y_test, df_3.predict(x_test)))"
   ]
  },
  {
   "cell_type": "markdown",
   "id": "e6d0d35f-ad07-4871-a1b0-d85ac7492c4c",
   "metadata": {},
   "source": [
    "# Inspect Accuracy of New Model"
   ]
  },
  {
   "cell_type": "code",
   "execution_count": 14,
   "id": "762c02dd-ba49-4cb4-a3ac-8507a8807895",
   "metadata": {
    "tags": []
   },
   "outputs": [
    {
     "name": "stdout",
     "output_type": "stream",
     "text": [
      "The best test accuracy score is 0.8460003070781514\n",
      "The best depth for the updated accuracy test is 9\n"
     ]
    }
   ],
   "source": [
    "best_test = np.max(accuracy_test_2)\n",
    "best_train = np.max(accuracy_train_2)\n",
    "best_depth = max_depth[np.argmax(accuracy_test_2)]\n",
    "#Save the best model and print the two features with the new feature set\n",
    "print(f'The best test accuracy score is {best_test}')\n",
    "print(f'The best depth for the updated accuracy test is {best_depth}')"
   ]
  },
  {
   "cell_type": "markdown",
   "id": "09b76c52-20fa-454e-ad25-2f8388555a78",
   "metadata": {},
   "source": [
    "# Visualize New Model"
   ]
  },
  {
   "cell_type": "code",
   "execution_count": 15,
   "id": "15c1f3ce-3534-47d0-88ba-164bd8f221b0",
   "metadata": {
    "tags": []
   },
   "outputs": [
    {
     "data": {
      "image/png": "[encoded data removed]",
      "text/plain": [
       "<Figure size 640x480 with 1 Axes>"
      ]
     },
     "metadata": {},
     "output_type": "display_data"
    }
   ],
   "source": [
    "plt.plot(max_depth, accuracy_test_2,'bo--', max_depth, accuracy_train_2,'r*:')\n",
    "plt.xlabel('max_depth')\n",
    "plt.ylabel('accuracy')\n",
    "plt.legend(['test accuracy', 'train accuracy'])\n",
    "plt.show()"
   ]
  },
  {
   "cell_type": "markdown",
   "id": "2f6c8042-8b6b-4dbc-9aeb-3c91404e5e95",
   "metadata": {},
   "source": []
  },
  {
   "cell_type": "code",
   "execution_count": 22,
   "id": "39df3061-7772-444e-9c21-eb0a9e595a1e",
   "metadata": {
    "tags": []
   },
   "outputs": [
    {
     "name": "stdout",
     "output_type": "stream",
     "text": [
      "0.8455396898510671\n"
     ]
    }
   ],
   "source": [
    "df_3 = RandomForestClassifier(max_depth=9)\n",
    "df_3.fit(x_train, y_train)\n",
    "y_pred = df_3.predict(x_test)\n",
    "print(accuracy_score(y_test, y_pred))"
   ]
  }
 ],
 "metadata": {
  "kernelspec": {
   "display_name": "Python 3 (ipykernel)",
   "language": "python",
   "name": "python3"
  },
  "language_info": {
   "codemirror_mode": {
    "name": "ipython",
    "version": 3
   },
   "file_extension": ".py",
   "mimetype": "text/x-python",
   "name": "python",
   "nbconvert_exporter": "python",
   "pygments_lexer": "ipython3",
   "version": "3.10.13"
  }
 },
 "nbformat": 4,
 "nbformat_minor": 5
}
